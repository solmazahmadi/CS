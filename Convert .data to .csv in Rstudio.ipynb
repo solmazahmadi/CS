{
 "cells": [
  {
   "cell_type": "code",
   "execution_count": null,
   "metadata": {},
   "outputs": [],
   "source": [
    "df_Original = read.table(\"https://archive.ics.uci.edu/ml/machine-learning-databases/housing/housing.data\")\n",
    "dplyr::glimpse(df_Original)\n",
    "write.csv(df_Original, 'Data_Original.csv') \n",
    "housing = read.csv(\"https://raw.githubusercontent.com/solmazahmadi/Computational-Statistics-Project/master/Data/Data_Original.csv\")"
   ]
  }
 ],
 "metadata": {
  "kernelspec": {
   "display_name": "Python 3",
   "language": "python",
   "name": "python3"
  },
  "language_info": {
   "codemirror_mode": {
    "name": "ipython",
    "version": 3
   },
   "file_extension": ".py",
   "mimetype": "text/x-python",
   "name": "python",
   "nbconvert_exporter": "python",
   "pygments_lexer": "ipython3",
   "version": "3.7.7"
  }
 },
 "nbformat": 4,
 "nbformat_minor": 4
}
